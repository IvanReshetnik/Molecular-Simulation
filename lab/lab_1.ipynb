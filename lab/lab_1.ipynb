{
  "cells": [
    {
      "cell_type": "markdown",
      "metadata": {
        "id": "SL115DgiI1Ce"
      },
      "source": [
        "#Хемоинформатика: QSAR и дизайн лекарств"
      ]
    },
    {
      "cell_type": "markdown",
      "metadata": {
        "id": "oMoE_zD2PGiD"
      },
      "source": [
        "Цель работы: познакомиться с некоторыми подходами, используемыми в хемоинформатике на примере задач фармацевтики\n",
        "\n",
        "*   Поиск лекарств\n",
        "\n",
        "*   Прогнозирование свойств молекул\n",
        "\n",
        "*   Генерация новых молекул.\n",
        "\n",
        "\n",
        "\n"
      ]
    },
    {
      "cell_type": "markdown",
      "metadata": {
        "id": "oHwh6n5CLpBo"
      },
      "source": [
        "## 1. Знакомство с библиотекой RDKit\n"
      ]
    },
    {
      "cell_type": "code",
      "execution_count": null,
      "metadata": {
        "id": "8uWa1S8MIuXS"
      },
      "outputs": [],
      "source": [
        "! pip install rdkit"
      ]
    },
    {
      "cell_type": "code",
      "source": [
        "# необходимые импорты\n",
        "import pandas as pd\n",
        "import numpy as np\n",
        "import seaborn as sns\n",
        "from scipy import sparse\n",
        "from IPython.display import display,Image\n",
        "\n",
        "from sklearn.model_selection import train_test_split\n",
        "from sklearn.metrics import roc_curve, roc_auc_score\n",
        "from sklearn.preprocessing import LabelEncoder\n",
        "from sklearn import metrics"
      ],
      "metadata": {
        "id": "vi4xOG_uPtr6"
      },
      "execution_count": 8,
      "outputs": []
    },
    {
      "cell_type": "code",
      "execution_count": 5,
      "metadata": {
        "id": "AuFuu05aSsZY"
      },
      "outputs": [],
      "source": [
        "from tqdm import tqdm\n",
        "from rdkit import Chem, DataStructs\n",
        "from rdkit.Chem import AllChem\n",
        "from rdkit.Chem import PandasTools\n",
        "from rdkit.Chem import AllChem\n",
        "from rdkit.Chem import rdMolDescriptors\n",
        "import matplotlib.pyplot as plt\n",
        "from rdkit.Chem import Draw\n",
        "from rdkit import RDLogger\n",
        "RDLogger.DisableLog('rdApp.*')\n",
        "\n",
        "import warnings\n",
        "warnings.filterwarnings(\"ignore\", category=UserWarning)"
      ]
    },
    {
      "cell_type": "markdown",
      "metadata": {
        "id": "c5RWs_3dmU8p"
      },
      "source": [
        "Норфлоксацин является противомикробным препаратом групп ингибиторов гираз"
      ]
    },
    {
      "cell_type": "code",
      "execution_count": null,
      "metadata": {
        "id": "GFEhwngvJ2Tj"
      },
      "outputs": [],
      "source": [
        "norfloxacin = Chem.MolFromSmiles(\"CCN1C=C(C(=O)C2=CC(=C(C=C21)N3CCNCC3)F)C(=O)O\")\n",
        "norfloxacin"
      ]
    },
    {
      "cell_type": "markdown",
      "metadata": {
        "id": "KFNtGrMNNTBN"
      },
      "source": [
        "## Дескрипторы\n",
        "В работе можно расчитывать различные дескрипторы. Нпример молекулярную массу и logP"
      ]
    },
    {
      "cell_type": "code",
      "execution_count": null,
      "metadata": {
        "id": "jwP8vlQVNUZF"
      },
      "outputs": [],
      "source": [
        "from rdkit.Chem.Descriptors import MolWt\n",
        "from rdkit.Chem.Crippen import MolLogP\n",
        "\n",
        "print(\"LogP\",MolLogP(norfloxacin))\n",
        "print(\"Molecular Weight\",MolWt(norfloxacin))"
      ]
    },
    {
      "cell_type": "markdown",
      "metadata": {
        "id": "E-wodobdONGU"
      },
      "source": [
        "### Оцените возможность применения норфлоксацина в качестве лекарственного препарата.\n",
        "### Правило пяти Липински:\n",
        "\n",
        "1.   Не более 5 донорных водородных связей\n",
        "2.   Не более 10 акцепторных водородных связей\n",
        "3.   Молекулярная масса соединения менее 500 г/моль\n",
        "4.   Коэффициент распределения октанол-вода (log P ), не должен превышать 5\n",
        "\n"
      ]
    },
    {
      "cell_type": "code",
      "execution_count": null,
      "metadata": {
        "id": "2yDZE44JN-MU"
      },
      "outputs": [],
      "source": [
        "import rdkit.Chem.Lipinski as Lipinksy\n",
        "print('NumHdonors',Lipinksy.NumHDonors(norfloxacin))\n",
        "print('NumHAdonors',Lipinksy.NumHAcceptors(norfloxacin))\n",
        "print('Wt',Lipinksy.rdMolDescriptors.CalcExactMolWt(norfloxacin))\n",
        "print('logP',Lipinksy.rdMolDescriptors.CalcCrippenDescriptors(norfloxacin)[0])"
      ]
    },
    {
      "cell_type": "markdown",
      "metadata": {
        "id": "Mu76esR2zME7"
      },
      "source": [
        "### Фингерпринты"
      ]
    },
    {
      "cell_type": "code",
      "execution_count": null,
      "metadata": {
        "id": "WQR4DeiY83F8"
      },
      "outputs": [],
      "source": [
        "from rdkit.Chem import rdMolDescriptors\n",
        "fp_mols = rdMolDescriptors.GetMorganFingerprintAsBitVect( norfloxacin ,radius = 2)\n",
        "np.array(fp_mols)"
      ]
    },
    {
      "cell_type": "markdown",
      "metadata": {
        "id": "1d08ygs4wOOa"
      },
      "source": [
        "# Задание"
      ]
    },
    {
      "cell_type": "markdown",
      "metadata": {
        "id": "08UIrhWgsnb1"
      },
      "source": [
        "Вам дан список [соединений](https://drive.google.com/file/d/1DlT9dxhuqWcENwS4jA70vCMQu7Nx9ORD/view?usp=drive_link).  \n",
        "\n",
        "*   Найдите smiles (https://pubchem.ncbi.nlm.nih.gov/)\n",
        "*   Постройте соединения\n",
        "*   Рассчитайте дескрипторы\n",
        "*   Оцените сходство найденных молекул с норфлоксацином и сделайте выводы\n",
        "\n",
        "Принято считать, что молекулы являются схожими при значении  > 0.8\n"
      ]
    },
    {
      "cell_type": "code",
      "execution_count": null,
      "metadata": {
        "id": "XNhaxtgk73yV"
      },
      "outputs": [],
      "source": [
        "alternative = [\"C1CC1N2C=C(C(=O)C3=CC(=C(C=C32)N4CCNCC4)F)C(=O)O\", ...  ] # Добавьте smiles в список"
      ]
    },
    {
      "cell_type": "code",
      "execution_count": null,
      "metadata": {
        "collapsed": true,
        "id": "w-_S90xU8Y5c"
      },
      "outputs": [],
      "source": [
        "mols = [Chem.MolFromSmiles(x) for x in alternative]"
      ]
    },
    {
      "cell_type": "code",
      "source": [
        "# Посмотрите десприпторы и правила пяти Липински для найденных соединений\n",
        "..."
      ],
      "metadata": {
        "id": "7LH140CAVYXp"
      },
      "execution_count": null,
      "outputs": []
    },
    {
      "cell_type": "code",
      "execution_count": null,
      "metadata": {
        "collapsed": true,
        "id": "M7i7kOGNBuzb"
      },
      "outputs": [],
      "source": [
        "fp_norfloxacin = AllChem.GetMorganFingerprint(norfloxacin,radius=2)\n",
        "fp_mols = [AllChem.GetMorganFingerprint( x ,radius = 2) for x in mols ]"
      ]
    },
    {
      "cell_type": "code",
      "execution_count": null,
      "metadata": {
        "collapsed": true,
        "id": "jwwfASzUC3P6"
      },
      "outputs": [],
      "source": [
        "sorafenib_similarity=[round(DataStructs.TanimotoSimilarity(fp_norfloxacin, x),3) for x in fp_mols]\n",
        "Draw.MolsToGridImage(mols,legends = [str(x) for x in sorafenib_similarity],subImgSize=(200, 200))"
      ]
    },
    {
      "cell_type": "markdown",
      "source": [
        "Учитывая то, что каждое соединение является противомикробным лекарством широкого спектра действия, можно ли их схожесть с исходной молекулой сравнивать с активностью?"
      ],
      "metadata": {
        "id": "MznKHtLGMPUx"
      }
    },
    {
      "cell_type": "markdown",
      "metadata": {
        "id": "zj0BIBdcRxjh"
      },
      "source": [
        "Построим карту сходства молекулы с норфлоксацином"
      ]
    },
    {
      "cell_type": "code",
      "execution_count": null,
      "metadata": {
        "id": "FcvH-THeEL9A"
      },
      "outputs": [],
      "source": [
        "from rdkit.Chem.Draw import SimilarityMaps\n",
        "\n",
        "d = Draw.MolDraw2DCairo(600, 600)\n",
        "somemol = mols[1] # Номер соединения в списке\n",
        "fig, maxweight = SimilarityMaps.GetSimilarityMapForFingerprint(norfloxacin, somemol, SimilarityMaps.GetMorganFingerprint,draw2d=d,size=(100, 100))\n",
        "print(maxweight)\n",
        "d.WriteDrawingText('similarity_map.png')\n",
        "Image(filename='similarity_map.png')"
      ]
    },
    {
      "cell_type": "markdown",
      "metadata": {
        "id": "UQESQkq3wncO"
      },
      "source": [
        "### Сделайте выводы:\n",
        "\n",
        "..."
      ]
    },
    {
      "cell_type": "markdown",
      "metadata": {
        "id": "WKKkgJVgR0hx"
      },
      "source": [
        "# 2. Пример применения машинного обучения для предсказания класса соединений (на примере прохождения через гематоэнцефалический барьер)"
      ]
    },
    {
      "cell_type": "markdown",
      "source": [
        "Перед нами популярный датасет о способности прохождения молекул через гематоэнцефалический барьер. Поскольку это мембрана которая блокирует множество соединений, для разработки лекартсвенных препаратов это известная проблема."
      ],
      "metadata": {
        "id": "zwRIMWRXUbVS"
      }
    },
    {
      "cell_type": "code",
      "execution_count": null,
      "metadata": {
        "id": "dyVi518XR5_J"
      },
      "outputs": [],
      "source": [
        "data = pd.read_csv(\"https://uni-muenster.sciebo.de/s/Mi6YnOcTZXkKNdY/download\")\n",
        "data.head()"
      ]
    },
    {
      "cell_type": "code",
      "execution_count": 10,
      "metadata": {
        "id": "fO17zrl3TeEm"
      },
      "outputs": [],
      "source": [
        "PandasTools.AddMoleculeColumnToFrame(frame=data, smilesCol='smiles')"
      ]
    },
    {
      "cell_type": "code",
      "execution_count": null,
      "metadata": {
        "collapsed": true,
        "id": "hRoP6ikhSys3"
      },
      "outputs": [],
      "source": [
        "train, tem = train_test_split(data, test_size=0.3, random_state=42) # разделим данные на обучающую и тестовую выборку\n",
        "test, valid = train_test_split(tem, test_size=0.5, random_state=42)\n",
        "data.loc[data.index.isin(train.index), 'set'] = 'train' # для удобства отобразили в данных какая молекула принадлежит к какой выборке\n",
        "data.loc[data.index.isin(test.index), 'set'] = 'test'\n",
        "data.loc[data.index.isin(valid.index), 'set'] = 'valid'\n",
        "data"
      ]
    },
    {
      "cell_type": "code",
      "execution_count": null,
      "metadata": {
        "id": "NCS70CU2S6zf"
      },
      "outputs": [],
      "source": [
        "def get_fingerprints(mols): # функция генерации фингерпринтов\n",
        "    arr=[]\n",
        "    for mol in tqdm(mols):\n",
        "        arr.append(rdMolDescriptors.GetMorganFingerprintAsBitVect(mol,radius=2))\n",
        "    return np.array(arr)"
      ]
    },
    {
      "cell_type": "code",
      "execution_count": null,
      "metadata": {
        "collapsed": true,
        "id": "85OeUmA5TPsG"
      },
      "outputs": [],
      "source": [
        "X_train=get_fingerprints(data[data.set=='train'].ROMol) # вычислим фингерпринты для обучающей и тестовой выборки\n",
        "X_test=get_fingerprints(data[data.set=='valid'].ROMol)"
      ]
    },
    {
      "cell_type": "markdown",
      "source": [
        "Попробуем визуализировать \"химическое пространство\" и подобрать модель для обучения"
      ],
      "metadata": {
        "id": "IzkmKtuvNCsI"
      }
    },
    {
      "cell_type": "code",
      "execution_count": null,
      "metadata": {
        "id": "eoqcmvonT1d-"
      },
      "outputs": [],
      "source": [
        "y_train=data[data.set=='train'].target.values # создали два вектора для предсказания\n",
        "y_test=data[data.set=='valid'].target.values"
      ]
    },
    {
      "cell_type": "code",
      "execution_count": null,
      "metadata": {
        "id": "J1eoCo61T27N"
      },
      "outputs": [],
      "source": [
        "from sklearn.decomposition import PCA\n",
        "\n",
        "pca = PCA(n_components=3)\n",
        "decomp=pca.fit_transform(X_train)\n",
        "decomp_test=pca.transform(X_test)"
      ]
    },
    {
      "cell_type": "code",
      "execution_count": null,
      "metadata": {
        "id": "LzX4b6NMUJ1t"
      },
      "outputs": [],
      "source": [
        "crds_df = pd.DataFrame(decomp,columns=[\"PC1\",\"PC2\",'PC3'])\n",
        "crds_df['is_active'] = list(y_train)\n",
        "crds_df.head()"
      ]
    },
    {
      "cell_type": "code",
      "execution_count": null,
      "metadata": {
        "id": "fLr0lua8UBv9"
      },
      "outputs": [],
      "source": [
        "ax = sns.scatterplot(data=crds_df,x=\"PC1\",y=\"PC2\",hue=\"is_active\") # выберите в каком пространстве лучше происходит разделение соединений"
      ]
    },
    {
      "cell_type": "code",
      "execution_count": null,
      "metadata": {
        "id": "t05KZEyLUW0d"
      },
      "outputs": [],
      "source": [
        "from sklearn.linear_model import RidgeClassifier # обучаем простую модель классификации с реугляризацией https://scikit-learn.org/stable/modules/generated/sklearn.linear_model.RidgeClassifier.html\n",
        "\n",
        "model=RidgeClassifier(alpha = 1.0) # гиперпараметр alpha управляет силой регуляризации\n",
        "model.fit(X_train, y_train)\n",
        "model.score(X_train, y_train)"
      ]
    },
    {
      "cell_type": "code",
      "execution_count": null,
      "metadata": {
        "id": "mrHLByswUbGl"
      },
      "outputs": [],
      "source": [
        "pred_train=model.predict(X_train)\n",
        "pred_test=model.predict(X_test)"
      ]
    },
    {
      "cell_type": "code",
      "execution_count": null,
      "metadata": {
        "id": "MAPkkDItUdvU"
      },
      "outputs": [],
      "source": [
        "confusion_matrix = metrics.confusion_matrix(y_test,pred_test) # построим Confussion матрицу\n",
        "cm_display = metrics.ConfusionMatrixDisplay(confusion_matrix = confusion_matrix, display_labels = [0, 1])\n",
        "cm_display.plot()\n",
        "plt.show()"
      ]
    },
    {
      "cell_type": "markdown",
      "source": [
        "# Задание\n",
        "\n",
        "\n",
        "*   Попробуйте использовать вместо PCA [t-SNE ](https://scikit-learn.org/stable/modules/generated/sklearn.manifold.TSNE.html). Сравните результаты\n",
        "*   Подберите подходящую более сложную [модель](https://scikit-learn.org/stable/supervised_learning.html). Оцените метрики обучения.\n",
        "\n"
      ],
      "metadata": {
        "id": "PHkvya9RN3pG"
      }
    },
    {
      "cell_type": "markdown",
      "metadata": {
        "id": "aVlW-bVadZfY"
      },
      "source": [
        "# 3. Дизайн лекарств. Генерация новых молекул"
      ]
    }
  ],
  "metadata": {
    "colab": {
      "provenance": []
    },
    "kernelspec": {
      "display_name": "Python 3",
      "name": "python3"
    },
    "language_info": {
      "name": "python"
    }
  },
  "nbformat": 4,
  "nbformat_minor": 0
}